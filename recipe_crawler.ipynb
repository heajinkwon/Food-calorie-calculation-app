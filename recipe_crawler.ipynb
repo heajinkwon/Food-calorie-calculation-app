{
 "cells": [
  {
   "cell_type": "code",
   "execution_count": 51,
   "id": "d9fa2f2a",
   "metadata": {},
   "outputs": [],
   "source": [
    "import requests\n",
    "from bs4 import BeautifulSoup\n",
    "import pandas as pd"
   ]
  },
  {
   "cell_type": "code",
   "execution_count": 52,
   "id": "eac8aea9",
   "metadata": {},
   "outputs": [],
   "source": [
    "baseUrl = 'http://www.10000recipe.com/recipe/'"
   ]
  },
  {
   "cell_type": "code",
   "execution_count": 69,
   "id": "e499af03",
   "metadata": {},
   "outputs": [],
   "source": [
    "def PageCrawler(recipeUrl):\n",
    "    url = baseUrl + recipeUrl\n",
    "\n",
    "    page = requests.get(url)\n",
    "    soup = BeautifulSoup(page.content, 'html.parser')\n",
    "\n",
    "    recipe_title = []  # 레시피 제목\n",
    "    recipe_source = {}  # 레시피 재료\n",
    "    recipe_step = [] #레시피 순서\n",
    "\n",
    "    try:\n",
    "        res = soup.find('div', 'view2_summary')\n",
    "        res = res.find('h3')\n",
    "        recipe_title.append(res.get_text())\n",
    "        res = soup.find('div', 'view2_summary_info')\n",
    "        recipe_title.append(res.get_text().replace('\\n', ''))\n",
    "        res = soup.find('div', 'ready_ingre3')\n",
    "    except(AttributeError):\n",
    "        return\n",
    "\n",
    "    # 재료 찾는 for문 가끔 형식에 맞지 않는 레시피들이 있어 try/ except 해준다\n",
    "    try:\n",
    "        for n in res.find_all('ul'):\n",
    "            source = []\n",
    "            title = n.find('b').get_text()\n",
    "            recipe_source[title] = ''\n",
    "            for tmp in n.find_all('li'):\n",
    "                tempSource = tmp.get_text().replace('\\n', '').replace(' ', ' ')\n",
    "                source.append(tempSource.split(\"    \")[0])\n",
    "\n",
    "            recipe_source[title] = source\n",
    "    except (AttributeError):\n",
    "        return\n",
    "    \n",
    "    # 요리순서 찾는 for문\n",
    "    res = soup.find('div','view_step')\n",
    "    i = 0\n",
    "    for n in res.find_all('div','view_step_cont') :\n",
    "        i = i + 1\n",
    "        recipe_step.append('#' + str(i) + ' ' + n.get_text().replace('\\n','').replace(' ',' '))   \n",
    "        \n",
    "    # 블로그 형식의 글은 스텝이 정확하게 되어있지 않기 때문에 제외해준다\n",
    "    if not recipe_step :\n",
    "        return\n",
    "\n",
    "    recipe_all = [ recipe_title, recipe_source,recipe_step]  #제목, 재료, 순서\n",
    "    return recipe_all"
   ]
  },
  {
   "cell_type": "code",
   "execution_count": 70,
   "id": "10eee64f",
   "metadata": {},
   "outputs": [],
   "source": [
    "def CrawlingBetweenRanges(startRecipeId, endRecipeId):\n",
    "    for i in range(startRecipeId, endRecipeId):\n",
    "        if i % 10 == 0:\n",
    "            print(\"count: \" + str(i))\n",
    "        res = PageCrawler(str(i))\n",
    "        if res is None:\n",
    "            continue\n",
    "        return res\n",
    "    \n",
    "#        menuId = mydb.insert_menu(res[0][0], baseUrl+str(i))\n",
    "#        for key, value in res[1].items():\n",
    "#            for name in value:\n",
    "#                if key == \"[재료]\" or key == \"[양념]\":\n",
    "#                    mydb.insert_ingredient(menuId, name)"
   ]
  },
  {
   "cell_type": "code",
   "execution_count": 71,
   "id": "bdc371f9",
   "metadata": {},
   "outputs": [
    {
     "data": {
      "text/plain": [
       "[['도시락 메뉴로 강추 불고기 또띠아 랩 (샌드위치) 만들기', '2인분 30분 이내 아무나 '],\n",
       " {'[재료]': ['또띠아', '불고기', '양상추', '로메인상추', '파프리카', '피망', '슬라이스치즈'],\n",
       "  '[양념]': ['허니머스타드']},\n",
       " ['#1 재료를 준비해주세요~.',\n",
       "  '#2 파프리카와 피망은 슬라이스해서 준비해주세요~.',\n",
       "  '#3 슬라이스치즈는 반으로 잘라서 준비해주세요~.',\n",
       "  '#4 양상추는 한입크기로 뜯어서 준비해주세요~.',\n",
       "  '#5 불고기는 중불에서 다익을때까지 볶아주세요~.@6890083  (불고기 양념 레시피입니다)',\n",
       "  '#6 마른팬에 중불로 앞뒤로 또띠아를 1분씩 구워주세요~.(생략가능하답니다~.)',\n",
       "  '#7 또띠아에 하니머스타드를 한큰술 펴발라주세요~.',\n",
       "  '#8 로메인상추를 2장 겹쳐서 올려주세요~.',\n",
       "  '#9 양상추와 슬라이스 치즈도 올려주세요~.',\n",
       "  '#10 불고기도 올려주세요~.',\n",
       "  '#11 피망과 파프리카도 올려주세요~.',\n",
       "  '#12 김밥을 말듯이 돌돌 말아주세요~.',\n",
       "  '#13 호일 또는 기름종이로 감싸주면 먹기 더욱 간편하답니다~.',\n",
       "  '#14 반으로 잘라주면 불고기 또띠아 랩 완성입니다~~~!!!♡♡♡']]"
      ]
     },
     "execution_count": 71,
     "metadata": {},
     "output_type": "execute_result"
    }
   ],
   "source": [
    "PageCrawler('6900135')"
   ]
  }
 ],
 "metadata": {
  "kernelspec": {
   "display_name": "Python 3",
   "language": "python",
   "name": "python3"
  },
  "language_info": {
   "codemirror_mode": {
    "name": "ipython",
    "version": 3
   },
   "file_extension": ".py",
   "mimetype": "text/x-python",
   "name": "python",
   "nbconvert_exporter": "python",
   "pygments_lexer": "ipython3",
   "version": "3.8.8"
  }
 },
 "nbformat": 4,
 "nbformat_minor": 5
}
