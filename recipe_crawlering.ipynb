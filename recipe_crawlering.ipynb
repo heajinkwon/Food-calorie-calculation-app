{
 "cells": [
  {
   "cell_type": "code",
   "execution_count": 1,
   "id": "e3c67bc1",
   "metadata": {},
   "outputs": [],
   "source": [
    "import requests\n",
    "from bs4 import BeautifulSoup\n",
    "import pandas as pd\n",
    "import itertools"
   ]
  },
  {
   "cell_type": "code",
   "execution_count": 2,
   "id": "77c634f7",
   "metadata": {},
   "outputs": [],
   "source": [
    "baseUrl = 'http://www.10000recipe.com/recipe/'"
   ]
  },
  {
   "cell_type": "code",
   "execution_count": 42,
   "id": "b0628f29",
   "metadata": {},
   "outputs": [],
   "source": [
    "def PageCrawler(recipeUrl):\n",
    "    url = baseUrl + recipeUrl\n",
    "\n",
    "    page = requests.get(url)\n",
    "    soup = BeautifulSoup(page.content, 'html.parser')\n",
    "\n",
    "    recipe_img = [] #레시피 이미지 url\n",
    "    recipe_title = []  # 레시피 제목\n",
    "    recipe_source = {}  # 레시피 재료\n",
    "    recipe_step = [] #레시피 순서\n",
    "\n",
    "    try:\n",
    "        res = soup.find(\"div\",class_=\"centeredcrop\")\n",
    "        imgUrl = res.find(\"img\")[\"src\"]\n",
    "        res = soup.find('div', 'view2_summary')\n",
    "        res = res.find('h3')\n",
    "        recipe_title.append(res.get_text())\n",
    "        res = soup.find('div', 'view2_summary_info')\n",
    "        recipe_title.append(res.get_text().replace('\\n', ''))\n",
    "        res = soup.find('div', 'ready_ingre3')\n",
    "    except(AttributeError):\n",
    "        return\n",
    "\n",
    "    # 재료 찾는 for문 가끔 형식에 맞지 않는 레시피들이 있어 try/ except 해준다\n",
    "    try:\n",
    "        for n in res.find_all('ul'):\n",
    "            source = []\n",
    "            title = n.find('b').get_text()\n",
    "            recipe_source[title] = ''\n",
    "            for tmp in n.find_all('li'):\n",
    "                tempSource = tmp.get_text().replace('\\n', '').replace('', '')\n",
    "                source.append(tempSource.split(\"    \")[0])\n",
    "\n",
    "            recipe_source[title] = source\n",
    "    except (AttributeError):\n",
    "        return\n",
    "    \n",
    "    # 요리순서 찾는 for문\n",
    "    res = soup.find('div','view_step')\n",
    "    i = 0\n",
    "    for n in res.find_all('div','view_step_cont') :\n",
    "        i = i + 1\n",
    "        recipe_step.append('#' + str(i) + ' ' + n.get_text().replace('\\n','').replace('',''))   \n",
    "        \n",
    "    recipe_all = [ imgUrl,recipe_title, recipe_source,recipe_step]  #이미지 url, 제목, 재료, 순서\n",
    "    return recipe_all"
   ]
  },
  {
   "cell_type": "code",
   "execution_count": 43,
   "id": "ac8b8976",
   "metadata": {},
   "outputs": [
    {
     "data": {
      "text/plain": [
       "['https://recipe1.ezmember.co.kr/cache/recipe/2018/11/13/39fbf1697aed3e36a2a9b9182e7fbb1b1.jpg',\n",
       " ['소고기야채죽 ★ 쫄지마! 다 너의 뜻대로 될꺼니깐!', '2인분 30분 이내 중급 '],\n",
       " {'[필수재료]': ['소고기', '양파', '애호박', '당근', '표고버섯', '다시마 육수', '참기름', '소금', '밥'],\n",
       "  '[밑간재료]': ['소금', '후추', '참기름', '맛술']},\n",
       " ['#1 양파, 애호박, 당근, 표고버섯은 다진다.',\n",
       "  '#2 소고기는 밑간한다.',\n",
       "  '#3 달군 냄비에 참기름을 두르고 밑간한 소고기를 넣어 볶는다.',\n",
       "  '#4 밥을 넣어 볶은 후 다시마육수를 붓고 중불로 끓인다.',\n",
       "  '#5 다진 채소를 넣고 소금 약간을 넣어 간한 후 통깨를 뿌려 완성한다.']]"
      ]
     },
     "execution_count": 43,
     "metadata": {},
     "output_type": "execute_result"
    }
   ],
   "source": [
    "PageCrawler('6900101')"
   ]
  }
 ],
 "metadata": {
  "kernelspec": {
   "display_name": "Python 3",
   "language": "python",
   "name": "python3"
  },
  "language_info": {
   "codemirror_mode": {
    "name": "ipython",
    "version": 3
   },
   "file_extension": ".py",
   "mimetype": "text/x-python",
   "name": "python",
   "nbconvert_exporter": "python",
   "pygments_lexer": "ipython3",
   "version": "3.8.8"
  }
 },
 "nbformat": 4,
 "nbformat_minor": 5
}
